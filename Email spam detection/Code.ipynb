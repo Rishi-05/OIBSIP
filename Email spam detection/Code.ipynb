{
 "cells": [
  {
   "cell_type": "code",
   "id": "8f745f09",
   "metadata": {
    "ExecuteTime": {
     "end_time": "2025-06-15T20:54:39.205245Z",
     "start_time": "2025-06-15T20:54:39.162230Z"
    }
   },
   "source": [
    "import pandas as pd\n",
    "import numpy as np\n",
    "import seaborn as sns\n",
    "import matplotlib.pyplot as plt"
   ],
   "outputs": [],
   "execution_count": 4
  },
  {
   "cell_type": "code",
   "id": "bb634ad3",
   "metadata": {
    "ExecuteTime": {
     "end_time": "2025-06-15T20:54:40.553856Z",
     "start_time": "2025-06-15T20:54:40.425579Z"
    }
   },
   "source": [
    "df = pd.read_csv(\"spam.csv\", encoding='latin-1')\n",
    "df.head()"
   ],
   "outputs": [
    {
     "data": {
      "text/plain": [
       "     v1                                                 v2 Unnamed: 2   \n",
       "0   ham  Go until jurong point, crazy.. Available only ...        NaN  \\\n",
       "1   ham                      Ok lar... Joking wif u oni...        NaN   \n",
       "2  spam  Free entry in 2 a wkly comp to win FA Cup fina...        NaN   \n",
       "3   ham  U dun say so early hor... U c already then say...        NaN   \n",
       "4   ham  Nah I don't think he goes to usf, he lives aro...        NaN   \n",
       "\n",
       "  Unnamed: 3 Unnamed: 4  \n",
       "0        NaN        NaN  \n",
       "1        NaN        NaN  \n",
       "2        NaN        NaN  \n",
       "3        NaN        NaN  \n",
       "4        NaN        NaN  "
      ],
      "text/html": [
       "<div>\n",
       "<style scoped>\n",
       "    .dataframe tbody tr th:only-of-type {\n",
       "        vertical-align: middle;\n",
       "    }\n",
       "\n",
       "    .dataframe tbody tr th {\n",
       "        vertical-align: top;\n",
       "    }\n",
       "\n",
       "    .dataframe thead th {\n",
       "        text-align: right;\n",
       "    }\n",
       "</style>\n",
       "<table border=\"1\" class=\"dataframe\">\n",
       "  <thead>\n",
       "    <tr style=\"text-align: right;\">\n",
       "      <th></th>\n",
       "      <th>v1</th>\n",
       "      <th>v2</th>\n",
       "      <th>Unnamed: 2</th>\n",
       "      <th>Unnamed: 3</th>\n",
       "      <th>Unnamed: 4</th>\n",
       "    </tr>\n",
       "  </thead>\n",
       "  <tbody>\n",
       "    <tr>\n",
       "      <th>0</th>\n",
       "      <td>ham</td>\n",
       "      <td>Go until jurong point, crazy.. Available only ...</td>\n",
       "      <td>NaN</td>\n",
       "      <td>NaN</td>\n",
       "      <td>NaN</td>\n",
       "    </tr>\n",
       "    <tr>\n",
       "      <th>1</th>\n",
       "      <td>ham</td>\n",
       "      <td>Ok lar... Joking wif u oni...</td>\n",
       "      <td>NaN</td>\n",
       "      <td>NaN</td>\n",
       "      <td>NaN</td>\n",
       "    </tr>\n",
       "    <tr>\n",
       "      <th>2</th>\n",
       "      <td>spam</td>\n",
       "      <td>Free entry in 2 a wkly comp to win FA Cup fina...</td>\n",
       "      <td>NaN</td>\n",
       "      <td>NaN</td>\n",
       "      <td>NaN</td>\n",
       "    </tr>\n",
       "    <tr>\n",
       "      <th>3</th>\n",
       "      <td>ham</td>\n",
       "      <td>U dun say so early hor... U c already then say...</td>\n",
       "      <td>NaN</td>\n",
       "      <td>NaN</td>\n",
       "      <td>NaN</td>\n",
       "    </tr>\n",
       "    <tr>\n",
       "      <th>4</th>\n",
       "      <td>ham</td>\n",
       "      <td>Nah I don't think he goes to usf, he lives aro...</td>\n",
       "      <td>NaN</td>\n",
       "      <td>NaN</td>\n",
       "      <td>NaN</td>\n",
       "    </tr>\n",
       "  </tbody>\n",
       "</table>\n",
       "</div>"
      ]
     },
     "execution_count": 5,
     "metadata": {},
     "output_type": "execute_result"
    }
   ],
   "execution_count": 5
  },
  {
   "cell_type": "code",
   "id": "a1d2a599",
   "metadata": {
    "ExecuteTime": {
     "end_time": "2025-06-15T20:54:42.948310Z",
     "start_time": "2025-06-15T20:54:42.937769Z"
    }
   },
   "source": [
    "df = df.iloc[:, :2]\n",
    "df.columns = ['label', 'message']"
   ],
   "outputs": [],
   "execution_count": 6
  },
  {
   "cell_type": "code",
   "id": "753a53a3",
   "metadata": {
    "ExecuteTime": {
     "end_time": "2025-06-15T20:54:44.381536Z",
     "start_time": "2025-06-15T20:54:44.364695Z"
    }
   },
   "source": [
    "df.head()"
   ],
   "outputs": [
    {
     "data": {
      "text/plain": [
       "  label                                            message\n",
       "0   ham  Go until jurong point, crazy.. Available only ...\n",
       "1   ham                      Ok lar... Joking wif u oni...\n",
       "2  spam  Free entry in 2 a wkly comp to win FA Cup fina...\n",
       "3   ham  U dun say so early hor... U c already then say...\n",
       "4   ham  Nah I don't think he goes to usf, he lives aro..."
      ],
      "text/html": [
       "<div>\n",
       "<style scoped>\n",
       "    .dataframe tbody tr th:only-of-type {\n",
       "        vertical-align: middle;\n",
       "    }\n",
       "\n",
       "    .dataframe tbody tr th {\n",
       "        vertical-align: top;\n",
       "    }\n",
       "\n",
       "    .dataframe thead th {\n",
       "        text-align: right;\n",
       "    }\n",
       "</style>\n",
       "<table border=\"1\" class=\"dataframe\">\n",
       "  <thead>\n",
       "    <tr style=\"text-align: right;\">\n",
       "      <th></th>\n",
       "      <th>label</th>\n",
       "      <th>message</th>\n",
       "    </tr>\n",
       "  </thead>\n",
       "  <tbody>\n",
       "    <tr>\n",
       "      <th>0</th>\n",
       "      <td>ham</td>\n",
       "      <td>Go until jurong point, crazy.. Available only ...</td>\n",
       "    </tr>\n",
       "    <tr>\n",
       "      <th>1</th>\n",
       "      <td>ham</td>\n",
       "      <td>Ok lar... Joking wif u oni...</td>\n",
       "    </tr>\n",
       "    <tr>\n",
       "      <th>2</th>\n",
       "      <td>spam</td>\n",
       "      <td>Free entry in 2 a wkly comp to win FA Cup fina...</td>\n",
       "    </tr>\n",
       "    <tr>\n",
       "      <th>3</th>\n",
       "      <td>ham</td>\n",
       "      <td>U dun say so early hor... U c already then say...</td>\n",
       "    </tr>\n",
       "    <tr>\n",
       "      <th>4</th>\n",
       "      <td>ham</td>\n",
       "      <td>Nah I don't think he goes to usf, he lives aro...</td>\n",
       "    </tr>\n",
       "  </tbody>\n",
       "</table>\n",
       "</div>"
      ]
     },
     "execution_count": 7,
     "metadata": {},
     "output_type": "execute_result"
    }
   ],
   "execution_count": 7
  },
  {
   "cell_type": "code",
   "id": "acf95f5e",
   "metadata": {
    "ExecuteTime": {
     "end_time": "2025-06-15T20:54:45.944130Z",
     "start_time": "2025-06-15T20:54:45.901544Z"
    }
   },
   "source": [
    "df['label'] = df['label'].map({'ham': 0, 'spam': 1}) # labels to binary"
   ],
   "outputs": [],
   "execution_count": 8
  },
  {
   "cell_type": "code",
   "id": "97100433",
   "metadata": {
    "ExecuteTime": {
     "end_time": "2025-06-15T20:54:47.269337Z",
     "start_time": "2025-06-15T20:54:47.243054Z"
    }
   },
   "source": [
    "df.isnull().sum()"
   ],
   "outputs": [
    {
     "data": {
      "text/plain": [
       "label      0\n",
       "message    0\n",
       "dtype: int64"
      ]
     },
     "execution_count": 9,
     "metadata": {},
     "output_type": "execute_result"
    }
   ],
   "execution_count": 9
  },
  {
   "cell_type": "code",
   "id": "71572a90",
   "metadata": {
    "ExecuteTime": {
     "end_time": "2025-06-15T20:54:49.032593Z",
     "start_time": "2025-06-15T20:54:49.023559Z"
    }
   },
   "source": [
    "df.shape"
   ],
   "outputs": [
    {
     "data": {
      "text/plain": [
       "(5572, 2)"
      ]
     },
     "execution_count": 10,
     "metadata": {},
     "output_type": "execute_result"
    }
   ],
   "execution_count": 10
  },
  {
   "cell_type": "code",
   "id": "7906cc54",
   "metadata": {
    "ExecuteTime": {
     "end_time": "2025-06-15T20:54:51.160388Z",
     "start_time": "2025-06-15T20:54:50.256876Z"
    }
   },
   "source": [
    "from sklearn.feature_extraction.text import TfidfVectorizer\n",
    "x = df['message']\n",
    "y = df['label']\n",
    "\n",
    "# converting text to numerical \n",
    "vectorizer = TfidfVectorizer(stop_words='english', lowercase=True)\n",
    "x_vectorized = vectorizer.fit_transform(x)"
   ],
   "outputs": [],
   "execution_count": 11
  },
  {
   "cell_type": "code",
   "id": "0a0dadc7",
   "metadata": {
    "ExecuteTime": {
     "end_time": "2025-06-15T20:54:52.838285Z",
     "start_time": "2025-06-15T20:54:52.697527Z"
    }
   },
   "source": [
    "from sklearn.model_selection import train_test_split\n",
    "xtrain, xtest, ytrain, ytest = train_test_split(x_vectorized, y, test_size=0.2, random_state=42)"
   ],
   "outputs": [],
   "execution_count": 12
  },
  {
   "cell_type": "code",
   "id": "0a651bb6",
   "metadata": {
    "ExecuteTime": {
     "end_time": "2025-06-15T20:54:55.427742Z",
     "start_time": "2025-06-15T20:54:55.298394Z"
    }
   },
   "source": [
    "from sklearn.naive_bayes import MultinomialNB\n",
    "from sklearn.linear_model import LogisticRegression"
   ],
   "outputs": [],
   "execution_count": 13
  },
  {
   "cell_type": "code",
   "id": "2e294293",
   "metadata": {
    "ExecuteTime": {
     "end_time": "2025-06-15T20:54:56.297521Z",
     "start_time": "2025-06-15T20:54:56.219457Z"
    }
   },
   "source": [
    "from sklearn.metrics import accuracy_score\n",
    "nb_model = MultinomialNB()\n",
    "nb_model.fit(xtrain, ytrain)\n",
    "nb_preds = nb_model.predict(xtest)\n",
    "print(\"Naive Bayes Accuracy:\", accuracy_score(ytest, nb_preds))\n",
    "\n",
    "lr_model = LogisticRegression(max_iter=1000)\n",
    "lr_model.fit(xtrain, ytrain)\n",
    "lr_preds = lr_model.predict(xtest)\n",
    "print(\"Logistic Regression Accuracy:\", accuracy_score(ytest, lr_preds))"
   ],
   "outputs": [
    {
     "name": "stdout",
     "output_type": "stream",
     "text": [
      "Naive Bayes Accuracy: 0.968609865470852\n",
      "Logistic Regression Accuracy: 0.9443946188340807\n"
     ]
    }
   ],
   "execution_count": 14
  },
  {
   "cell_type": "code",
   "id": "1d8165b8",
   "metadata": {
    "ExecuteTime": {
     "end_time": "2025-06-15T20:55:02.418476Z",
     "start_time": "2025-06-15T20:54:58.289211Z"
    }
   },
   "source": [
    "import tensorflow as tf\n",
    "from tensorflow.keras.models import Sequential\n",
    "from tensorflow.keras.layers import Dense, Dropout"
   ],
   "outputs": [],
   "execution_count": 15
  },
  {
   "cell_type": "code",
   "id": "faf5d5bd",
   "metadata": {
    "ExecuteTime": {
     "end_time": "2025-06-15T20:56:38.619220Z",
     "start_time": "2025-06-15T20:56:26.596584Z"
    }
   },
   "source": [
    "# converting sparse TF-IDF matrices to dense (only needed for TensorFlow)\n",
    "xtrain_dense = xtrain.toarray()\n",
    "xtest_dense = xtest.toarray()\n",
    "\n",
    "# Build NN\n",
    "model = Sequential()\n",
    "model.add(Dense(128, activation='relu', input_shape=(xtrain_dense.shape[1],)))\n",
    "model.add(Dropout(0.3))\n",
    "model.add(Dense(64, activation='relu'))\n",
    "model.add(Dropout(0.3))\n",
    "model.add(Dense(1, activation='sigmoid'))  # Binary classification\n",
    "\n",
    "# Compile\n",
    "model.compile(optimizer='adam', loss='binary_crossentropy', metrics=['accuracy'])\n",
    "\n",
    "# Train\n",
    "model.fit(xtrain_dense, ytrain, epochs=5, batch_size=32, validation_data=(xtest_dense, ytest), verbose=2)\n",
    "\n",
    "# Evaluate\n",
    "loss, accuracy = model.evaluate(xtest_dense, ytest, verbose=0)\n",
    "print(\"Neural Network Accuracy:\", accuracy)\n"
   ],
   "outputs": [
    {
     "name": "stderr",
     "output_type": "stream",
     "text": [
      "C:\\Python 3.11\\Lib\\site-packages\\keras\\src\\layers\\core\\dense.py:87: UserWarning: Do not pass an `input_shape`/`input_dim` argument to a layer. When using Sequential models, prefer using an `Input(shape)` object as the first layer in the model instead.\n",
      "  super().__init__(activity_regularizer=activity_regularizer, **kwargs)\n"
     ]
    },
    {
     "name": "stdout",
     "output_type": "stream",
     "text": [
      "Epoch 1/5\n",
      "140/140 - 4s - 29ms/step - accuracy: 0.8831 - loss: 0.3039 - val_accuracy: 0.9659 - val_loss: 0.1348\n",
      "Epoch 2/5\n",
      "140/140 - 2s - 13ms/step - accuracy: 0.9879 - loss: 0.0519 - val_accuracy: 0.9803 - val_loss: 0.0697\n",
      "Epoch 3/5\n",
      "140/140 - 2s - 13ms/step - accuracy: 0.9978 - loss: 0.0102 - val_accuracy: 0.9785 - val_loss: 0.0759\n",
      "Epoch 4/5\n",
      "140/140 - 2s - 13ms/step - accuracy: 0.9993 - loss: 0.0047 - val_accuracy: 0.9803 - val_loss: 0.0800\n",
      "Epoch 5/5\n",
      "140/140 - 2s - 12ms/step - accuracy: 0.9993 - loss: 0.0026 - val_accuracy: 0.9812 - val_loss: 0.0811\n",
      "Neural Network Accuracy: 0.9811659455299377\n"
     ]
    }
   ],
   "execution_count": 16
  },
  {
   "metadata": {
    "ExecuteTime": {
     "end_time": "2025-06-15T21:08:31.501375Z",
     "start_time": "2025-06-15T21:08:31.444799Z"
    }
   },
   "cell_type": "code",
   "source": [
    "import pickle\n",
    "with open(\"tfidf.pkl\", \"wb\") as f:\n",
    "    pickle.dump(vectorizer, f)"
   ],
   "id": "f8fe7b7eea86ba94",
   "outputs": [],
   "execution_count": 24
  },
  {
   "metadata": {
    "ExecuteTime": {
     "end_time": "2025-06-15T21:11:17.166004Z",
     "start_time": "2025-06-15T21:11:16.792926Z"
    }
   },
   "cell_type": "code",
   "source": "model.save(\"spam_model.h5\")",
   "id": "49daaf8576311361",
   "outputs": [
    {
     "name": "stderr",
     "output_type": "stream",
     "text": [
      "WARNING:absl:You are saving your model as an HDF5 file via `model.save()` or `keras.saving.save_model(model)`. This file format is considered legacy. We recommend using instead the native Keras format, e.g. `model.save('my_model.keras')` or `keras.saving.save_model(model, 'my_model.keras')`. \n"
     ]
    }
   ],
   "execution_count": 25
  },
  {
   "metadata": {
    "ExecuteTime": {
     "end_time": "2025-06-15T21:11:45.358667Z",
     "start_time": "2025-06-15T21:11:44.798492Z"
    }
   },
   "cell_type": "code",
   "source": [
    "from sklearn.metrics import confusion_matrix, classification_report, ConfusionMatrixDisplay\n",
    "# Predict on test set\n",
    "y_pred_nn = (model.predict(xtest_dense) > 0.5).astype(\"int32\").flatten()"
   ],
   "id": "7e4fab7e9df41050",
   "outputs": [
    {
     "name": "stdout",
     "output_type": "stream",
     "text": [
      "\u001B[1m35/35\u001B[0m \u001B[32m━━━━━━━━━━━━━━━━━━━━\u001B[0m\u001B[37m\u001B[0m \u001B[1m0s\u001B[0m 3ms/step\n"
     ]
    }
   ],
   "execution_count": 26
  },
  {
   "metadata": {
    "ExecuteTime": {
     "end_time": "2025-06-15T21:11:46.893789Z",
     "start_time": "2025-06-15T21:11:46.572421Z"
    }
   },
   "cell_type": "code",
   "source": [
    "cm = confusion_matrix(ytest, y_pred_nn)\n",
    "disp = ConfusionMatrixDisplay(confusion_matrix=cm, display_labels=['Ham', 'Spam'])\n",
    "disp.plot(cmap='Blues')\n",
    "plt.title(\"Neural Network Confusion Matrix\")\n",
    "plt.show()\n",
    "\n",
    "# Classification report\n",
    "print(classification_report(ytest, y_pred_nn, target_names=[\"Ham\", \"Spam\"]))"
   ],
   "id": "eb52e73bbb5e26f9",
   "outputs": [
    {
     "data": {
      "text/plain": [
       "<Figure size 640x480 with 2 Axes>"
      ],
      "image/png": "[encoded data removed]"
     },
     "metadata": {},
     "output_type": "display_data"
    },
    {
     "name": "stdout",
     "output_type": "stream",
     "text": [
      "              precision    recall  f1-score   support\n",
      "\n",
      "         Ham       0.98      1.00      0.99       965\n",
      "        Spam       0.98      0.88      0.93       150\n",
      "\n",
      "    accuracy                           0.98      1115\n",
      "   macro avg       0.98      0.94      0.96      1115\n",
      "weighted avg       0.98      0.98      0.98      1115\n",
      "\n"
     ]
    }
   ],
   "execution_count": 27
  },
  {
   "metadata": {
    "ExecuteTime": {
     "end_time": "2025-06-15T21:18:41.851949Z",
     "start_time": "2025-06-15T21:18:41.548183Z"
    }
   },
   "cell_type": "code",
   "source": [
    "model = tf.keras.models.load_model(\"spam_model.h5\")\n",
    "\n",
    "with open(\"tfidf.pkl\", \"rb\") as f:\n",
    "    tfidf = pickle.load(f)\n",
    "\n",
    "# Define the function\n",
    "def predict_message(message):\n",
    "    message_tfidf = tfidf.transform([message]).toarray()\n",
    "    prediction = model.predict(message_tfidf)[0][0]\n",
    "\n",
    "    print(f\"\\n📨 Input Message: {message}\")\n",
    "    if prediction > 0.5:\n",
    "        print(f\"📩 Prediction: **SPAM** (Confidence: {prediction:.2f})\")\n",
    "    else:\n",
    "        print(f\"✅ Prediction: **NOT SPAM** (Confidence: {1 - prediction:.2f})\")\n",
    "\n",
    "# Example predictions\n",
    "predict_message(\"Congratulations! You've won a free iPhone. Click here to claim.\")\n",
    "predict_message(\"Hi, can we meet at 5 PM for our project discussion?\")"
   ],
   "id": "83b87aa143e25021",
   "outputs": [
    {
     "name": "stderr",
     "output_type": "stream",
     "text": [
      "WARNING:absl:Compiled the loaded model, but the compiled metrics have yet to be built. `model.compile_metrics` will be empty until you train or evaluate the model.\n"
     ]
    },
    {
     "name": "stdout",
     "output_type": "stream",
     "text": [
      "\u001B[1m1/1\u001B[0m \u001B[32m━━━━━━━━━━━━━━━━━━━━\u001B[0m\u001B[37m\u001B[0m \u001B[1m0s\u001B[0m 75ms/step\n",
      "\n",
      "📨 Input Message: Congratulations! You've won a free iPhone. Click here to claim.\n",
      "📩 Prediction: **SPAM** (Confidence: 1.00)\n",
      "\u001B[1m1/1\u001B[0m \u001B[32m━━━━━━━━━━━━━━━━━━━━\u001B[0m\u001B[37m\u001B[0m \u001B[1m0s\u001B[0m 47ms/step\n",
      "\n",
      "📨 Input Message: Hi, can we meet at 5 PM for our project discussion?\n",
      "✅ Prediction: **NOT SPAM** (Confidence: 1.00)\n"
     ]
    }
   ],
   "execution_count": 29
  },
  {
   "metadata": {},
   "cell_type": "code",
   "outputs": [],
   "execution_count": null,
   "source": "",
   "id": "d6be1de10f7ead17"
  }
 ],
 "metadata": {
  "kernelspec": {
   "display_name": "Python 3 (ipykernel)",
   "language": "python",
   "name": "python3"
  },
  "language_info": {
   "codemirror_mode": {
    "name": "ipython",
    "version": 3
   },
   "file_extension": ".py",
   "mimetype": "text/x-python",
   "name": "python",
   "nbconvert_exporter": "python",
   "pygments_lexer": "ipython3",
   "version": "3.11.4"
  }
 },
 "nbformat": 4,
 "nbformat_minor": 5
}
